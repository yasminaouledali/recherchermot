{
  "nbformat": 4,
  "nbformat_minor": 0,
  "metadata": {
    "colab": {
      "provenance": []
    },
    "kernelspec": {
      "name": "python3",
      "display_name": "Python 3"
    },
    "language_info": {
      "name": "python"
    }
  },
  "cells": [
    {
      "cell_type": "code",
      "execution_count": null,
      "metadata": {
        "id": "nubDjiuQe5du"
      },
      "outputs": [],
      "source": [
        "import nltk\n",
        "from nltk.tokenize import word_tokenize, sent_tokenize"
      ]
    },
    {
      "cell_type": "code",
      "source": [
        "import nltk\n",
        "from nltk.tokenize import word_tokenize, sent_tokenize\n",
        "\n",
        "#Assurez-vous d'avoir téléchargé les ressources du tokenizer 'punkt'\n",
        "nltk.download('punkt')\n",
        "\n",
        "with open('/content/CV.txt','r') as fichier:\n",
        "    texte_cv = fichier.read()\n",
        "\n",
        "\n",
        "# Process the text using NLTK tokenizer and more (assuming you have further processing steps)\n",
        "mots = nltk.word_tokenize(texte_cv)\n",
        "\n",
        "print(texte_cv)\n",
        "print(mots)"
      ],
      "metadata": {
        "colab": {
          "base_uri": "https://localhost:8080/"
        },
        "id": "pyeLu14ufAiy",
        "outputId": "edb5c318-a512-4582-b4e1-3206f41577b0"
      },
      "execution_count": null,
      "outputs": [
        {
          "output_type": "stream",
          "name": "stderr",
          "text": [
            "[nltk_data] Downloading package punkt to /root/nltk_data...\n",
            "[nltk_data]   Unzipping tokenizers/punkt.zip.\n"
          ]
        },
        {
          "output_type": "stream",
          "name": "stdout",
          "text": [
            "                      Yasmina Awled Ali\n",
            "                      Etudiante\n",
            "                      Etudiante en 2éme année de mastère professionnel en Data science , passionnée par ce domaine. cherche\n",
            "                un stage de projet de ﬁn d'études pour développer mes compéte\n",
            "                                         yasminaouledali@gmail.com             94538718\n",
            "\n",
            "\n",
            "EDUCATION                                                           COMPÉTENCES TECHNIQUES\n",
            "Mastère profesionnel en Data Science                                 Python        SQL       Machine Learning          Power BI\n",
            "Institut Supérieur des Langues Appliquées et\n",
            "Informatique de Béja\n",
            "09/2022 - Present,\n",
            "\n",
            "                                                                    PROJECTS ACADÉMIQUES\n",
            "Licence nationale en sciences de\n",
            "                                                                    Prédiction de diabète\n",
            "l'informatique                                                        Prédiction la probabilité du diabète en utilisant des modèles de\n",
            "Institut Supérieur des Langues Appliquées et                          Machine learning\n",
            "Informatique de Béja\n",
            "09/2019 - 06/2022,                                                  Prédiction des niveaux de compétence des étudiants\n",
            "                                                                      Construction de modèles d'apprentissage permettant de prédire\n",
            "                                                                      les nivaux de compétence des étudiants\n",
            "Baccalauréat en sciences de l'informatique\n",
            "Lycée 02 Mars 1934 - Tabarka\n",
            "2019,\n",
            "                                                                    LANGUES\n",
            "                                                                    Arabe\n",
            "\n",
            "EXPERIENCE                                                          Francais\n",
            "\n",
            "Stage de projet de ﬁn d'études                                      Anglais\n",
            "Société Tunisienne du Sucre\n",
            "02/2022 - 05/2022,\n",
            "Tâches\n",
            "  Conception et développement d'une application web de              INTERESTS\n",
            "  gestion de factures en utilisant le framework Django.\n",
            "                                                                     Interest\n",
            "\n",
            "Stage de projet de ﬁn d'année\n",
            "Société Tunisienne du Sucre\n",
            "05/2022 - 06/2022,\n",
            "Tâches\n",
            "  Conception et développement d'une application web de\n",
            "  gestion de parc informatique en utilisant :\n",
            "  HTML/CSS/Javascript/Bootstrao/PHP.\n",
            "\f\n",
            "['Yasmina', 'Awled', 'Ali', 'Etudiante', 'Etudiante', 'en', '2éme', 'année', 'de', 'mastère', 'professionnel', 'en', 'Data', 'science', ',', 'passionnée', 'par', 'ce', 'domaine', '.', 'cherche', 'un', 'stage', 'de', 'projet', 'de', 'ﬁn', \"d'études\", 'pour', 'développer', 'mes', 'compéte', 'yasminaouledali', '@', 'gmail.com', '94538718', 'EDUCATION', 'COMPÉTENCES', 'TECHNIQUES', 'Mastère', 'profesionnel', 'en', 'Data', 'Science', 'Python', 'SQL', 'Machine', 'Learning', 'Power', 'BI', 'Institut', 'Supérieur', 'des', 'Langues', 'Appliquées', 'et', 'Informatique', 'de', 'Béja', '09/2022', '-', 'Present', ',', 'PROJECTS', 'ACADÉMIQUES', 'Licence', 'nationale', 'en', 'sciences', 'de', 'Prédiction', 'de', 'diabète', \"l'informatique\", 'Prédiction', 'la', 'probabilité', 'du', 'diabète', 'en', 'utilisant', 'des', 'modèles', 'de', 'Institut', 'Supérieur', 'des', 'Langues', 'Appliquées', 'et', 'Machine', 'learning', 'Informatique', 'de', 'Béja', '09/2019', '-', '06/2022', ',', 'Prédiction', 'des', 'niveaux', 'de', 'compétence', 'des', 'étudiants', 'Construction', 'de', 'modèles', \"d'apprentissage\", 'permettant', 'de', 'prédire', 'les', 'nivaux', 'de', 'compétence', 'des', 'étudiants', 'Baccalauréat', 'en', 'sciences', 'de', \"l'informatique\", 'Lycée', '02', 'Mars', '1934', '-', 'Tabarka', '2019', ',', 'LANGUES', 'Arabe', 'EXPERIENCE', 'Francais', 'Stage', 'de', 'projet', 'de', 'ﬁn', \"d'études\", 'Anglais', 'Société', 'Tunisienne', 'du', 'Sucre', '02/2022', '-', '05/2022', ',', 'Tâches', 'Conception', 'et', 'développement', \"d'une\", 'application', 'web', 'de', 'INTERESTS', 'gestion', 'de', 'factures', 'en', 'utilisant', 'le', 'framework', 'Django', '.', 'Interest', 'Stage', 'de', 'projet', 'de', 'ﬁn', \"d'année\", 'Société', 'Tunisienne', 'du', 'Sucre', '05/2022', '-', '06/2022', ',', 'Tâches', 'Conception', 'et', 'développement', \"d'une\", 'application', 'web', 'de', 'gestion', 'de', 'parc', 'informatique', 'en', 'utilisant', ':', 'HTML/CSS/Javascript/Bootstrao/PHP', '.']\n"
          ]
        }
      ]
    },
    {
      "cell_type": "code",
      "source": [
        "import nltk\n",
        "from nltk.tokenize import word_tokenize, sent_tokenize\n",
        "\n",
        "chemin_fichier_cv = '/content/CV.txt'\n",
        "with open(chemin_fichier_cv, 'r') as fichier:\n",
        "    texte_cv = fichier.read()\n",
        "mots_recherches = \"python\"\n",
        "def mots_consecutifs_present_dans_cv(mots_recherches, texte_cv):\n",
        "   # Utilisation de word_tokenize pour extraire les mots\n",
        "    mots_cv = word_tokenize(texte_cv.lower())\n",
        "    # Convertir les mots recherchés en minuscules et les diviser en une liste\n",
        "    mots_recherches = mots_recherches.lower().split()\n",
        "\n",
        "    for i in range(len(mots_cv) - len(mots_recherches) + 1):\n",
        "        if mots_cv[i:i+len(mots_recherches)] == mots_recherches:\n",
        "            return True\n",
        "\n",
        "    return False\n",
        "mots = nltk.word_tokenize(texte_cv)\n",
        "\n",
        "print(texte_cv)\n",
        "print(mots)\n",
        "if mots_consecutifs_present_dans_cv(mots_recherches, texte_cv):\n",
        "    print(f\"Les mots python sont présents dans le CV.\")\n",
        "else:\n",
        "    print(f\"Les mots python ne sont pas présents dans le CV.\")\n"
      ],
      "metadata": {
        "colab": {
          "base_uri": "https://localhost:8080/"
        },
        "id": "RMCpqDzzfRPR",
        "outputId": "51b7b68c-0ab0-4510-a83e-e46495269692"
      },
      "execution_count": null,
      "outputs": [
        {
          "output_type": "stream",
          "name": "stdout",
          "text": [
            "                      Yasmina Awled Ali\n",
            "                      Etudiante\n",
            "                      Etudiante en 2éme année de mastère professionnel en Data science , passionnée par ce domaine. cherche\n",
            "                un stage de projet de ﬁn d'études pour développer mes compéte\n",
            "                                         yasminaouledali@gmail.com             94538718\n",
            "\n",
            "\n",
            "EDUCATION                                                           COMPÉTENCES TECHNIQUES\n",
            "Mastère profesionnel en Data Science                                 Python        SQL       Machine Learning          Power BI\n",
            "Institut Supérieur des Langues Appliquées et\n",
            "Informatique de Béja\n",
            "09/2022 - Present,\n",
            "\n",
            "                                                                    PROJECTS ACADÉMIQUES\n",
            "Licence nationale en sciences de\n",
            "                                                                    Prédiction de diabète\n",
            "l'informatique                                                        Prédiction la probabilité du diabète en utilisant des modèles de\n",
            "Institut Supérieur des Langues Appliquées et                          Machine learning\n",
            "Informatique de Béja\n",
            "09/2019 - 06/2022,                                                  Prédiction des niveaux de compétence des étudiants\n",
            "                                                                      Construction de modèles d'apprentissage permettant de prédire\n",
            "                                                                      les nivaux de compétence des étudiants\n",
            "Baccalauréat en sciences de l'informatique\n",
            "Lycée 02 Mars 1934 - Tabarka\n",
            "2019,\n",
            "                                                                    LANGUES\n",
            "                                                                    Arabe\n",
            "\n",
            "EXPERIENCE                                                          Francais\n",
            "\n",
            "Stage de projet de ﬁn d'études                                      Anglais\n",
            "Société Tunisienne du Sucre\n",
            "02/2022 - 05/2022,\n",
            "Tâches\n",
            "  Conception et développement d'une application web de              INTERESTS\n",
            "  gestion de factures en utilisant le framework Django.\n",
            "                                                                     Interest\n",
            "\n",
            "Stage de projet de ﬁn d'année\n",
            "Société Tunisienne du Sucre\n",
            "05/2022 - 06/2022,\n",
            "Tâches\n",
            "  Conception et développement d'une application web de\n",
            "  gestion de parc informatique en utilisant :\n",
            "  HTML/CSS/Javascript/Bootstrao/PHP.\n",
            "\f\n",
            "['Yasmina', 'Awled', 'Ali', 'Etudiante', 'Etudiante', 'en', '2éme', 'année', 'de', 'mastère', 'professionnel', 'en', 'Data', 'science', ',', 'passionnée', 'par', 'ce', 'domaine', '.', 'cherche', 'un', 'stage', 'de', 'projet', 'de', 'ﬁn', \"d'études\", 'pour', 'développer', 'mes', 'compéte', 'yasminaouledali', '@', 'gmail.com', '94538718', 'EDUCATION', 'COMPÉTENCES', 'TECHNIQUES', 'Mastère', 'profesionnel', 'en', 'Data', 'Science', 'Python', 'SQL', 'Machine', 'Learning', 'Power', 'BI', 'Institut', 'Supérieur', 'des', 'Langues', 'Appliquées', 'et', 'Informatique', 'de', 'Béja', '09/2022', '-', 'Present', ',', 'PROJECTS', 'ACADÉMIQUES', 'Licence', 'nationale', 'en', 'sciences', 'de', 'Prédiction', 'de', 'diabète', \"l'informatique\", 'Prédiction', 'la', 'probabilité', 'du', 'diabète', 'en', 'utilisant', 'des', 'modèles', 'de', 'Institut', 'Supérieur', 'des', 'Langues', 'Appliquées', 'et', 'Machine', 'learning', 'Informatique', 'de', 'Béja', '09/2019', '-', '06/2022', ',', 'Prédiction', 'des', 'niveaux', 'de', 'compétence', 'des', 'étudiants', 'Construction', 'de', 'modèles', \"d'apprentissage\", 'permettant', 'de', 'prédire', 'les', 'nivaux', 'de', 'compétence', 'des', 'étudiants', 'Baccalauréat', 'en', 'sciences', 'de', \"l'informatique\", 'Lycée', '02', 'Mars', '1934', '-', 'Tabarka', '2019', ',', 'LANGUES', 'Arabe', 'EXPERIENCE', 'Francais', 'Stage', 'de', 'projet', 'de', 'ﬁn', \"d'études\", 'Anglais', 'Société', 'Tunisienne', 'du', 'Sucre', '02/2022', '-', '05/2022', ',', 'Tâches', 'Conception', 'et', 'développement', \"d'une\", 'application', 'web', 'de', 'INTERESTS', 'gestion', 'de', 'factures', 'en', 'utilisant', 'le', 'framework', 'Django', '.', 'Interest', 'Stage', 'de', 'projet', 'de', 'ﬁn', \"d'année\", 'Société', 'Tunisienne', 'du', 'Sucre', '05/2022', '-', '06/2022', ',', 'Tâches', 'Conception', 'et', 'développement', \"d'une\", 'application', 'web', 'de', 'gestion', 'de', 'parc', 'informatique', 'en', 'utilisant', ':', 'HTML/CSS/Javascript/Bootstrao/PHP', '.']\n",
            "Les mots python sont présents dans le CV.\n"
          ]
        }
      ]
    },
    {
      "cell_type": "code",
      "source": [
        "import nltk\n",
        "from nltk.tokenize import word_tokenize\n",
        "\n",
        "def mots_present_dans_cv(mots_recherches, texte_cv):\n",
        "  # Utilisation de word_tokenize pour extraire les mots\n",
        "    mots_cv = word_tokenize(texte_cv.lower())\n",
        "    mots_recherches = mots_recherches.lower().split()\n",
        "    mots_trouves = []\n",
        "    mots_non_trouves = []\n",
        "\n",
        "    for mot in mots_recherches:\n",
        "        if mot in mots_cv:\n",
        "            mots_trouves.append(mot)\n",
        "        else:\n",
        "            mots_non_trouves.append(mot)\n",
        "\n",
        "    return mots_trouves, mots_non_trouves\n",
        "\n",
        "chemin_fichier_cv = '/content/CV.txt'\n",
        "with open(chemin_fichier_cv, 'r') as fichier:\n",
        "    texte_cv = fichier.read()\n",
        "\n",
        "mots_recherches = \"python Machine Learning Deep\"  # Liste de mots à rechercher\n",
        "mots_trouves, mots_non_trouves = mots_present_dans_cv(mots_recherches, texte_cv)\n",
        "mots = nltk.word_tokenize(texte_cv)\n",
        "\n",
        "print(texte_cv)\n",
        "print(mots)\n",
        "print(\"mots trouvés dans le CV :\",mots_trouves)\n",
        "print(\"mots non trouvés dans le CV :\",mots_non_trouves)\n"
      ],
      "metadata": {
        "colab": {
          "base_uri": "https://localhost:8080/"
        },
        "id": "sphd9LGwfggT",
        "outputId": "6b6a2eaa-816e-416f-f84a-1f1744ef4431"
      },
      "execution_count": null,
      "outputs": [
        {
          "output_type": "stream",
          "name": "stdout",
          "text": [
            "                      Yasmina Awled Ali\n",
            "                      Etudiante\n",
            "                      Etudiante en 2éme année de mastère professionnel en Data science , passionnée par ce domaine. cherche\n",
            "                un stage de projet de ﬁn d'études pour développer mes compéte\n",
            "                                         yasminaouledali@gmail.com             94538718\n",
            "\n",
            "\n",
            "EDUCATION                                                           COMPÉTENCES TECHNIQUES\n",
            "Mastère profesionnel en Data Science                                 Python        SQL       Machine Learning          Power BI\n",
            "Institut Supérieur des Langues Appliquées et\n",
            "Informatique de Béja\n",
            "09/2022 - Present,\n",
            "\n",
            "                                                                    PROJECTS ACADÉMIQUES\n",
            "Licence nationale en sciences de\n",
            "                                                                    Prédiction de diabète\n",
            "l'informatique                                                        Prédiction la probabilité du diabète en utilisant des modèles de\n",
            "Institut Supérieur des Langues Appliquées et                          Machine learning\n",
            "Informatique de Béja\n",
            "09/2019 - 06/2022,                                                  Prédiction des niveaux de compétence des étudiants\n",
            "                                                                      Construction de modèles d'apprentissage permettant de prédire\n",
            "                                                                      les nivaux de compétence des étudiants\n",
            "Baccalauréat en sciences de l'informatique\n",
            "Lycée 02 Mars 1934 - Tabarka\n",
            "2019,\n",
            "                                                                    LANGUES\n",
            "                                                                    Arabe\n",
            "\n",
            "EXPERIENCE                                                          Francais\n",
            "\n",
            "Stage de projet de ﬁn d'études                                      Anglais\n",
            "Société Tunisienne du Sucre\n",
            "02/2022 - 05/2022,\n",
            "Tâches\n",
            "  Conception et développement d'une application web de              INTERESTS\n",
            "  gestion de factures en utilisant le framework Django.\n",
            "                                                                     Interest\n",
            "\n",
            "Stage de projet de ﬁn d'année\n",
            "Société Tunisienne du Sucre\n",
            "05/2022 - 06/2022,\n",
            "Tâches\n",
            "  Conception et développement d'une application web de\n",
            "  gestion de parc informatique en utilisant :\n",
            "  HTML/CSS/Javascript/Bootstrao/PHP.\n",
            "\f\n",
            "['Yasmina', 'Awled', 'Ali', 'Etudiante', 'Etudiante', 'en', '2éme', 'année', 'de', 'mastère', 'professionnel', 'en', 'Data', 'science', ',', 'passionnée', 'par', 'ce', 'domaine', '.', 'cherche', 'un', 'stage', 'de', 'projet', 'de', 'ﬁn', \"d'études\", 'pour', 'développer', 'mes', 'compéte', 'yasminaouledali', '@', 'gmail.com', '94538718', 'EDUCATION', 'COMPÉTENCES', 'TECHNIQUES', 'Mastère', 'profesionnel', 'en', 'Data', 'Science', 'Python', 'SQL', 'Machine', 'Learning', 'Power', 'BI', 'Institut', 'Supérieur', 'des', 'Langues', 'Appliquées', 'et', 'Informatique', 'de', 'Béja', '09/2022', '-', 'Present', ',', 'PROJECTS', 'ACADÉMIQUES', 'Licence', 'nationale', 'en', 'sciences', 'de', 'Prédiction', 'de', 'diabète', \"l'informatique\", 'Prédiction', 'la', 'probabilité', 'du', 'diabète', 'en', 'utilisant', 'des', 'modèles', 'de', 'Institut', 'Supérieur', 'des', 'Langues', 'Appliquées', 'et', 'Machine', 'learning', 'Informatique', 'de', 'Béja', '09/2019', '-', '06/2022', ',', 'Prédiction', 'des', 'niveaux', 'de', 'compétence', 'des', 'étudiants', 'Construction', 'de', 'modèles', \"d'apprentissage\", 'permettant', 'de', 'prédire', 'les', 'nivaux', 'de', 'compétence', 'des', 'étudiants', 'Baccalauréat', 'en', 'sciences', 'de', \"l'informatique\", 'Lycée', '02', 'Mars', '1934', '-', 'Tabarka', '2019', ',', 'LANGUES', 'Arabe', 'EXPERIENCE', 'Francais', 'Stage', 'de', 'projet', 'de', 'ﬁn', \"d'études\", 'Anglais', 'Société', 'Tunisienne', 'du', 'Sucre', '02/2022', '-', '05/2022', ',', 'Tâches', 'Conception', 'et', 'développement', \"d'une\", 'application', 'web', 'de', 'INTERESTS', 'gestion', 'de', 'factures', 'en', 'utilisant', 'le', 'framework', 'Django', '.', 'Interest', 'Stage', 'de', 'projet', 'de', 'ﬁn', \"d'année\", 'Société', 'Tunisienne', 'du', 'Sucre', '05/2022', '-', '06/2022', ',', 'Tâches', 'Conception', 'et', 'développement', \"d'une\", 'application', 'web', 'de', 'gestion', 'de', 'parc', 'informatique', 'en', 'utilisant', ':', 'HTML/CSS/Javascript/Bootstrao/PHP', '.']\n",
            "mots trouvés dans le CV : ['python', 'machine', 'learning']\n",
            "mots non trouvés dans le CV : ['deep']\n"
          ]
        }
      ]
    }
  ]
}